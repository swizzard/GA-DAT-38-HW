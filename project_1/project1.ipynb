{
 "cells": [
  {
   "cell_type": "markdown",
   "metadata": {},
   "source": [
    "# Project 1\n",
    "\n",
    "## Problem Statement    \n",
    "Determine whether having a high GPA is more or less important than scoring well on the GRE when applying for graduate school, using the available data of 400 students."
   ]
  },
  {
   "cell_type": "markdown",
   "metadata": {},
   "source": [
    "**1. What is the outcome?**    \n",
    "Whether or not a given student was admitted, coded in the data as the binary variable `admit`.\n",
    "\n",
    "**2. What are the predictors/covariates?**    \n",
    "* GRE score (`gre`)\n",
    "* Undergraduate GPA (`gpa`)\n",
    "* Prestige rank of undergraduate program (`prestige`)\n",
    "\n",
    "**3. What timeframe is this data relevant for?**    \n",
    "Unknown/Not Applicable\n",
    "\n",
    "**4. What is the hypothesis?**    \n",
    "Graduating with a high GPA is more important than scoring well on the GRE when applying to graduate school."
   ]
  },
  {
   "cell_type": "code",
   "execution_count": 95,
   "metadata": {
    "collapsed": true
   },
   "outputs": [],
   "source": [
    "# imports & configuration\n",
    "from collections import Counter\n",
    "from numbers import Number\n",
    "from pprint import pprint, pformat  # not necessary but worth it\n",
    "\n",
    "import pandas as pd\n",
    "import matplotlib.pyplot as plt\n",
    "import numpy as np\n",
    "plt.style.use('ggplot')\n",
    "%matplotlib inline"
   ]
  },
  {
   "cell_type": "code",
   "execution_count": 4,
   "metadata": {
    "collapsed": true
   },
   "outputs": [],
   "source": [
    "# load the data\n",
    "orig_data = pd.read_csv('./resources/admissions.csv')"
   ]
  },
  {
   "cell_type": "markdown",
   "metadata": {},
   "source": [
    "## Exploratory Analysis\n",
    "\n",
    "**1. Data dictionary**    \n",
    "\n",
    "Variable | Description | Type\n",
    "--- | --- | ---\n",
    "Admit | 0 = not admitted, 1 = admitted | Categorial, binary\n",
    "GRE | GRE score, [200-800 in 10-point increments](https://www.ets.org/gre/revised_general/scores/how/#prior) | Discrete\n",
    "GPA | Undergraduate GPA, 0.00-4.00 | Continuous\n",
    "Prestige | Prestige of undergraduate program, 1-4 | Ordinal\n",
    "\n",
    "**2. What are the goals of the exploratory analysis?** \n",
    "To gain a better understanding of the data by examining the range and distribution of its variables.\n",
    "\n",
    "**3a. What are the assumptions of the distribution of data?**    \n",
    "We start assuming the data are distributed normally.\n",
    "\n",
    "**3b. How will you determine the distribution of your data?**    \n",
    "We can get a mathematical sense of the distribution by calculating the mean, standard deviation, and quartiles of the data, using `pd.DataFrame.describe`:"
   ]
  },
  {
   "cell_type": "code",
   "execution_count": 5,
   "metadata": {
    "collapsed": false
   },
   "outputs": [
    {
     "data": {
      "text/html": [
       "<div>\n",
       "<table border=\"1\" class=\"dataframe\">\n",
       "  <thead>\n",
       "    <tr style=\"text-align: right;\">\n",
       "      <th></th>\n",
       "      <th>admit</th>\n",
       "      <th>gre</th>\n",
       "      <th>gpa</th>\n",
       "      <th>prestige</th>\n",
       "    </tr>\n",
       "  </thead>\n",
       "  <tbody>\n",
       "    <tr>\n",
       "      <th>count</th>\n",
       "      <td>400.000000</td>\n",
       "      <td>398.000000</td>\n",
       "      <td>398.00000</td>\n",
       "      <td>399.000000</td>\n",
       "    </tr>\n",
       "    <tr>\n",
       "      <th>mean</th>\n",
       "      <td>0.317500</td>\n",
       "      <td>588.040201</td>\n",
       "      <td>3.39093</td>\n",
       "      <td>2.486216</td>\n",
       "    </tr>\n",
       "    <tr>\n",
       "      <th>std</th>\n",
       "      <td>0.466087</td>\n",
       "      <td>115.628513</td>\n",
       "      <td>0.38063</td>\n",
       "      <td>0.945333</td>\n",
       "    </tr>\n",
       "    <tr>\n",
       "      <th>min</th>\n",
       "      <td>0.000000</td>\n",
       "      <td>220.000000</td>\n",
       "      <td>2.26000</td>\n",
       "      <td>1.000000</td>\n",
       "    </tr>\n",
       "    <tr>\n",
       "      <th>25%</th>\n",
       "      <td>0.000000</td>\n",
       "      <td>520.000000</td>\n",
       "      <td>3.13000</td>\n",
       "      <td>2.000000</td>\n",
       "    </tr>\n",
       "    <tr>\n",
       "      <th>50%</th>\n",
       "      <td>0.000000</td>\n",
       "      <td>580.000000</td>\n",
       "      <td>3.39500</td>\n",
       "      <td>2.000000</td>\n",
       "    </tr>\n",
       "    <tr>\n",
       "      <th>75%</th>\n",
       "      <td>1.000000</td>\n",
       "      <td>660.000000</td>\n",
       "      <td>3.67000</td>\n",
       "      <td>3.000000</td>\n",
       "    </tr>\n",
       "    <tr>\n",
       "      <th>max</th>\n",
       "      <td>1.000000</td>\n",
       "      <td>800.000000</td>\n",
       "      <td>4.00000</td>\n",
       "      <td>4.000000</td>\n",
       "    </tr>\n",
       "  </tbody>\n",
       "</table>\n",
       "</div>"
      ],
      "text/plain": [
       "            admit         gre        gpa    prestige\n",
       "count  400.000000  398.000000  398.00000  399.000000\n",
       "mean     0.317500  588.040201    3.39093    2.486216\n",
       "std      0.466087  115.628513    0.38063    0.945333\n",
       "min      0.000000  220.000000    2.26000    1.000000\n",
       "25%      0.000000  520.000000    3.13000    2.000000\n",
       "50%      0.000000  580.000000    3.39500    2.000000\n",
       "75%      1.000000  660.000000    3.67000    3.000000\n",
       "max      1.000000  800.000000    4.00000    4.000000"
      ]
     },
     "execution_count": 5,
     "metadata": {},
     "output_type": "execute_result"
    }
   ],
   "source": [
    "orig_data.describe()"
   ]
  },
  {
   "cell_type": "markdown",
   "metadata": {},
   "source": [
    "We can also use Python to calculate the range of each variable:"
   ]
  },
  {
   "cell_type": "code",
   "execution_count": 17,
   "metadata": {
    "collapsed": false
   },
   "outputs": [
    {
     "name": "stdout",
     "output_type": "stream",
     "text": [
      "GRE range is 800.0 - 220.0 = 580.0\n",
      "GPA range is 4.0 - 2.26 = 1.74\n"
     ]
    }
   ],
   "source": [
    "def calc_range(col):\n",
    "    \"\"\"\n",
    "    Calculate the range of a column\n",
    "    :param col: the column to operate on\n",
    "    :type col: Series\n",
    "    :return: dict\n",
    "    \"\"\"\n",
    "    col_max = max(col)\n",
    "    col_min = min(col)\n",
    "    return {'col_max': col_max, 'col_min': col_min,\n",
    "            'col_range': col_max - col_min}\n",
    "\n",
    "def fmt_range(col_name, col_max, col_min, col_range):\n",
    "    \"\"\"\n",
    "    Format range information as a string\n",
    "    :param col_name: name of the column\n",
    "    :type col_name: str\n",
    "    :param col_max: maximum value of the column\n",
    "    :param col_min: minimum value of the column\n",
    "    :param col_range: range of the column\n",
    "    :type col_max, col_min, col_range: int or float\n",
    "    :return: string\n",
    "    \"\"\"\n",
    "    return \"{} range is {} - {} = {}\".format(col_name, col_max,\n",
    "                                             col_min, col_range)\n",
    "\n",
    "print fmt_range('GRE', **calc_range(orig_data['gre']))\n",
    "print fmt_range('GPA', **calc_range(orig_data['gpa']))"
   ]
  },
  {
   "cell_type": "markdown",
   "metadata": {},
   "source": [
    "**4a. How might outliers impact your analysis?**    \n",
    "Outliers in either GRE or GPA could skew the apparent correlation with the outcome.\n",
    "\n",
    "**4b. How will you test for outliers?**    \n",
    "We can use Python:"
   ]
  },
  {
   "cell_type": "code",
   "execution_count": 74,
   "metadata": {
    "collapsed": false
   },
   "outputs": [
    {
     "name": "stdout",
     "output_type": "stream",
     "text": [
      "Low GRE outliers (below 0.1 quantile):\n",
      "0      380.0\n",
      "7      400.0\n",
      "17     360.0\n",
      "34     360.0\n",
      "35     400.0\n",
      "49     400.0\n",
      "57     380.0\n",
      "58     400.0\n",
      "71     300.0\n",
      "83     380.0\n",
      "99     400.0\n",
      "100    340.0\n",
      "102    380.0\n",
      "108    400.0\n",
      "111    420.0\n",
      "112    360.0\n",
      "119    340.0\n",
      "145    380.0\n",
      "151    400.0\n",
      "170    400.0\n",
      "179    300.0\n",
      "193    380.0\n",
      "197    400.0\n",
      "203    420.0\n",
      "216    340.0\n",
      "232    380.0\n",
      "233    420.0\n",
      "265    380.0\n",
      "281    360.0\n",
      "289    420.0\n",
      "302    400.0\n",
      "304    220.0\n",
      "315    300.0\n",
      "316    340.0\n",
      "323    420.0\n",
      "332    420.0\n",
      "348    400.0\n",
      "385    420.0\n",
      "Name: gre, dtype: float64\n",
      "High GRE outliers (above 0.9 quantile):\n",
      "2      800.0\n",
      "5      760.0\n",
      "10     800.0\n",
      "12     760.0\n",
      "16     780.0\n",
      "18     800.0\n",
      "24     760.0\n",
      "25     800.0\n",
      "28     780.0\n",
      "31     760.0\n",
      "33     800.0\n",
      "69     800.0\n",
      "77     800.0\n",
      "92     800.0\n",
      "118    800.0\n",
      "150    800.0\n",
      "173    800.0\n",
      "185    800.0\n",
      "191    800.0\n",
      "200    800.0\n",
      "205    780.0\n",
      "223    800.0\n",
      "224    800.0\n",
      "234    800.0\n",
      "245    800.0\n",
      "286    800.0\n",
      "288    800.0\n",
      "291    800.0\n",
      "293    800.0\n",
      "317    780.0\n",
      "350    780.0\n",
      "355    760.0\n",
      "369    800.0\n",
      "377    800.0\n",
      "390    800.0\n",
      "Name: gre, dtype: float64\n",
      "There are 38 low GRE outliers and 35 high GRE outliers\n",
      "Low GRE outliers (below 0.05 quantile):\n",
      "0      380.0\n",
      "17     360.0\n",
      "34     360.0\n",
      "57     380.0\n",
      "71     300.0\n",
      "83     380.0\n",
      "100    340.0\n",
      "102    380.0\n",
      "112    360.0\n",
      "119    340.0\n",
      "145    380.0\n",
      "179    300.0\n",
      "193    380.0\n",
      "216    340.0\n",
      "232    380.0\n",
      "265    380.0\n",
      "281    360.0\n",
      "304    220.0\n",
      "315    300.0\n",
      "316    340.0\n",
      "Name: gre, dtype: float64\n",
      "High GRE outliers (above 0.95 quantile):\n",
      "Series([], Name: gre, dtype: float64)\n",
      "There are 20 low GRE outliers and 0 high GRE outliers\n",
      "Low GPA outliers (below 0.0 quantile):\n",
      "Series([], Name: gpa, dtype: float64)\n",
      "High GPA outliers (above 0.9 quantile):\n",
      "2      4.00\n",
      "10     4.00\n",
      "12     4.00\n",
      "14     4.00\n",
      "33     4.00\n",
      "55     4.00\n",
      "64     4.00\n",
      "70     4.00\n",
      "73     4.00\n",
      "75     4.00\n",
      "77     4.00\n",
      "79     4.00\n",
      "89     4.00\n",
      "104    3.95\n",
      "115    3.99\n",
      "137    4.00\n",
      "165    4.00\n",
      "168    4.00\n",
      "182    4.00\n",
      "202    4.00\n",
      "221    3.99\n",
      "237    4.00\n",
      "252    4.00\n",
      "257    3.95\n",
      "263    3.95\n",
      "270    3.95\n",
      "293    3.97\n",
      "303    3.98\n",
      "310    4.00\n",
      "330    4.00\n",
      "342    3.95\n",
      "350    4.00\n",
      "360    4.00\n",
      "368    4.00\n",
      "377    4.00\n",
      "383    4.00\n",
      "394    3.99\n",
      "395    4.00\n",
      "Name: gpa, dtype: float64\n",
      "There are 0 low GPA outliers and 38 high GPA outliers\n",
      "Low GPA outliers (below 0.05 quantile):\n",
      "17     2.56\n",
      "39     2.68\n",
      "40     2.42\n",
      "48     2.48\n",
      "82     2.71\n",
      "121    2.67\n",
      "147    2.71\n",
      "156    2.52\n",
      "163    2.73\n",
      "176    2.62\n",
      "233    2.67\n",
      "289    2.26\n",
      "294    2.55\n",
      "323    2.69\n",
      "324    2.70\n",
      "341    2.65\n",
      "372    2.42\n",
      "379    2.70\n",
      "384    2.62\n",
      "397    2.63\n",
      "Name: gpa, dtype: float64\n",
      "High GPA outliers (above 0.95 quantile):\n",
      "Series([], Name: gpa, dtype: float64)\n",
      "There are 20 low GPA outliers and 0 high GPA outliers\n"
     ]
    }
   ],
   "source": [
    "def find_outliers(col, lo_q, hi_q):\n",
    "    \"\"\"\n",
    "    Return all values in a column lower than a low quantile and higher than a high one\n",
    "    :param col: the column to retrieve outliers from\n",
    "    :type col: Series\n",
    "    :param lo_q: low quantile value\n",
    "    :param hi_q: high quantile value\n",
    "    :type lo_q, hi_q: float\n",
    "    :return: (Series, Series)\n",
    "    \"\"\"\n",
    "    lo_quant, hi_quant = col.quantile([lo_q, hi_q])\n",
    "    return col[col < (lo_quant)], col[col > (hi_quant)]\n",
    "\n",
    "\n",
    "def print_outliers(col, lo_q, hi_q):\n",
    "    \"\"\"\n",
    "    Print outliers nicely.\n",
    "    :param col: the column to retrieve outliers from\n",
    "    :type col: Series\n",
    "    :param lo_q: low quantile value\n",
    "    :param hi_q: high quantile value\n",
    "    :type lo_q, hi_q: float\n",
    "    :return: None\n",
    "    \"\"\"\n",
    "    fmt_str = (\"Low {c} outliers (below {mn} quantile):\\n{lo}\"\n",
    "               \"\\nHigh {c} outliers (above {mx} quantile):\\n{hi}\"\n",
    "               \"\\nThere are {lnlo} low {c} outliers and {lnhi} \"\n",
    "               \"high {c} outliers\")\n",
    "    lows, highs = find_outliers(col, lo_q, hi_q)\n",
    "    print fmt_str.format(c=col.name.upper(), mn=lo_q, mx=hi_q, lo=lows,\n",
    "                         hi=highs, lnlo=len(lows), lnhi=len(highs))\n",
    "\n",
    "print_outliers(gre, 0.1, 0.9)\n",
    "print_outliers(gre, 0.05, 0.95)\n",
    "print_outliers(gpa, 0., 0.9)\n",
    "print_outliers(gpa, 0.05, 0.95)"
   ]
  },
  {
   "cell_type": "markdown",
   "metadata": {},
   "source": [
    "It should be noted that the number of outliers given the relatively limiting quantiles of `0.1` and `0.9` suggests the data may not be as normally distributed as we'd like.\n",
    "\n",
    "We can also get a sense of distribution and outliers by plotting the data:"
   ]
  },
  {
   "cell_type": "code",
   "execution_count": 120,
   "metadata": {
    "collapsed": false
   },
   "outputs": [],
   "source": [
    "# first we have to replace `NaN` values, or plotting will\n",
    "# throw an error\n",
    "na_filled = orig_data.fillna(0)"
   ]
  },
  {
   "cell_type": "code",
   "execution_count": 122,
   "metadata": {
    "collapsed": false
   },
   "outputs": [
    {
     "data": {
      "image/png": "[encoded data removed]",
      "text/plain": [
       "<matplotlib.figure.Figure at 0x119c67490>"
      ]
     },
     "metadata": {},
     "output_type": "display_data"
    }
   ],
   "source": [
    "# we don't care about the values returned by plt.hist, so we assign\n",
    "# them to the dummy variable _\n",
    "_ = plt.hist(na_filled.gre)"
   ]
  },
  {
   "cell_type": "code",
   "execution_count": 123,
   "metadata": {
    "collapsed": false,
    "scrolled": true
   },
   "outputs": [
    {
     "data": {
      "image/png": "[encoded data removed]",
      "text/plain": [
       "<matplotlib.figure.Figure at 0x119970150>"
      ]
     },
     "metadata": {},
     "output_type": "display_data"
    }
   ],
   "source": [
    "_ = plt.hist(na_filled.gpa)"
   ]
  },
  {
   "cell_type": "markdown",
   "metadata": {},
   "source": [
    "These histograms confirm our suspicions that our assumptions about the shape of our data were not entirely correct&mdash;neither are distributed normally."
   ]
  },
  {
   "cell_type": "markdown",
   "metadata": {},
   "source": [
    "**5a. What is colinearity?**    \n",
    "Colinearity is a correlation between two predictor variables, to the point where one can be calculated to within some degree of accuracy given only the other.\n",
    "\n",
    "**5b. How will you test for colinearity?**    \n",
    "We can test for colinearity by calculating pairwise correlation among our variables.\n",
    "\n",
    "**6. What is your exploratory analysis plan?**\n",
    "\n",
    "1. Acquire and load the contents of `admissions.csv`\n",
    "2. Calculate the mean, standard deviation, and range of each variable\n",
    "3. Identify outliers by calculating which values fall outside of high and low quantiles.\n",
    "4. (Optional) Plot distributions of variables.\n",
    "\n",
    "All three of these steps can be facilitated by making use of the functions and variables defined in this notebook."
   ]
  },
  {
   "cell_type": "code",
   "execution_count": null,
   "metadata": {
    "collapsed": true
   },
   "outputs": [],
   "source": []
  }
 ],
 "metadata": {
  "kernelspec": {
   "display_name": "Python 2",
   "language": "python",
   "name": "python2"
  },
  "language_info": {
   "codemirror_mode": {
    "name": "ipython",
    "version": 2
   },
   "file_extension": ".py",
   "mimetype": "text/x-python",
   "name": "python",
   "nbconvert_exporter": "python",
   "pygments_lexer": "ipython2",
   "version": "2.7.11"
  }
 },
 "nbformat": 4,
 "nbformat_minor": 0
}
