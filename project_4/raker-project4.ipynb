{
 "cells": [
  {
   "cell_type": "markdown",
   "metadata": {},
   "source": [
    "# Project 4\n",
    "\n",
    "In this project, you will summarize and present your analysis from Projects 1-3."
   ]
  },
  {
   "cell_type": "code",
   "execution_count": 53,
   "metadata": {
    "collapsed": true
   },
   "outputs": [],
   "source": [
    "%matplotlib inline\n",
    "from matplotlib import pyplot as plt\n",
    "import pandas as pd\n",
    "from sklearn import cross_validation, linear_model, metrics"
   ]
  },
  {
   "cell_type": "code",
   "execution_count": 2,
   "metadata": {
    "collapsed": true
   },
   "outputs": [],
   "source": [
    "admissions_data = pd.read_csv('assets/admissions.csv')"
   ]
  },
  {
   "cell_type": "markdown",
   "metadata": {},
   "source": [
    "**Problem Statement:** Determine which factors are most relevant when applying to a graduate program."
   ]
  },
  {
   "cell_type": "markdown",
   "metadata": {},
   "source": [
    "The data originally comes from a [tutorial on Logit Regression in R](http://www.ats.ucla.edu/stat/r/dae/logit.htm) from UCLA. Admission is encoded in the `admit` column, as either a `1` (admission) or `0` (rejection.) The three other columns in the data comprise our predictors:\n",
    "\n",
    "* `gpa`: undergraduate Grade Point Average, continuous between 0.00 and 4.00.\n",
    "* `gre`: candidate's score on the Graduate Record Examinations (GRE) test, continuous in increments of 10 between 220 and 800.\n",
    "* `prestige`: prestige rank of candidate's undergraduate program, ordinal ranking from 4 (least prestigious) to 1 (most prestigious.) `prestige` will need to be converted to dummy variables before the data is ready for analysis.\n",
    "\n",
    "In addition to creating dummy variables for the categorical `prestige` predictor, we will also need to remove incomplete rows."
   ]
  },
  {
   "cell_type": "code",
   "execution_count": 21,
   "metadata": {
    "collapsed": false
   },
   "outputs": [],
   "source": [
    "clean_admissions = admissions_data.dropna()\n",
    "clean_admissions.columns\n",
    "admissions = clean_admissions.drop('prestige', axis=1)\n",
    "prestige = pd.get_dummies(clean_admissions.prestige, prefix='prestige')\n",
    "admissions = admissions.join(prestige)"
   ]
  },
  {
   "cell_type": "markdown",
   "metadata": {},
   "source": [
    "Mean (STD) or counts by admission status for each variable:"
   ]
  },
  {
   "cell_type": "code",
   "execution_count": 138,
   "metadata": {
    "collapsed": false
   },
   "outputs": [
    {
     "data": {
      "text/html": [
       "<div>\n",
       "<table border=\"1\" class=\"dataframe\">\n",
       "  <thead>\n",
       "    <tr style=\"text-align: right;\">\n",
       "      <th>admit</th>\n",
       "      <th>0</th>\n",
       "      <th>1</th>\n",
       "    </tr>\n",
       "  </thead>\n",
       "  <tbody>\n",
       "    <tr>\n",
       "      <th>gre</th>\n",
       "      <td>573.579336</td>\n",
       "      <td>618.571429</td>\n",
       "    </tr>\n",
       "    <tr>\n",
       "      <th>gpa</th>\n",
       "      <td>3.347159</td>\n",
       "      <td>3.489206</td>\n",
       "    </tr>\n",
       "    <tr>\n",
       "      <th>prestige_1.0</th>\n",
       "      <td>0.103321</td>\n",
       "      <td>0.261905</td>\n",
       "    </tr>\n",
       "    <tr>\n",
       "      <th>prestige_2.0</th>\n",
       "      <td>0.350554</td>\n",
       "      <td>0.420635</td>\n",
       "    </tr>\n",
       "    <tr>\n",
       "      <th>prestige_3.0</th>\n",
       "      <td>0.343173</td>\n",
       "      <td>0.222222</td>\n",
       "    </tr>\n",
       "    <tr>\n",
       "      <th>prestige_4.0</th>\n",
       "      <td>0.202952</td>\n",
       "      <td>0.095238</td>\n",
       "    </tr>\n",
       "  </tbody>\n",
       "</table>\n",
       "</div>"
      ],
      "text/plain": [
       "admit                  0           1\n",
       "gre           573.579336  618.571429\n",
       "gpa             3.347159    3.489206\n",
       "prestige_1.0    0.103321    0.261905\n",
       "prestige_2.0    0.350554    0.420635\n",
       "prestige_3.0    0.343173    0.222222\n",
       "prestige_4.0    0.202952    0.095238"
      ]
     },
     "execution_count": 138,
     "metadata": {},
     "output_type": "execute_result"
    }
   ],
   "source": [
    "admissions.groupby('admit').mean().T"
   ]
  },
  {
   "cell_type": "markdown",
   "metadata": {},
   "source": [
    "We can calculate the relative importance of our predictors by creating one or more regressions and comparing the weights assigned to each variable by our models."
   ]
  },
  {
   "cell_type": "code",
   "execution_count": 148,
   "metadata": {
    "collapsed": false
   },
   "outputs": [],
   "source": [
    "train = admissions.drop(['admit'], axis=1)\n",
    "admit = admissions.admit\n",
    "lm = linear_model.LinearRegression()\n",
    "fitted1 = lm.fit(train, admit)"
   ]
  },
  {
   "cell_type": "markdown",
   "metadata": {},
   "source": [
    "Having fit our model, we can plot the weights it has assigned to our predictors."
   ]
  },
  {
   "cell_type": "code",
   "execution_count": 150,
   "metadata": {
    "collapsed": false
   },
   "outputs": [
    {
     "name": "stdout",
     "output_type": "stream",
     "text": [
      "                     0\n",
      "gre           0.000422\n",
      "gpa           0.150824\n",
      "prestige_1.0  0.194624\n",
      "prestige_2.0  0.031082\n",
      "prestige_3.0 -0.096337\n",
      "prestige_4.0 -0.129370\n"
     ]
    },
    {
     "data": {
      "text/plain": [
       "<matplotlib.axes._subplots.AxesSubplot at 0x10c4a2e10>"
      ]
     },
     "execution_count": 150,
     "metadata": {},
     "output_type": "execute_result"
    },
    {
     "data": {
      "image/png": "[encoded data removed]",
      "text/plain": [
       "<matplotlib.figure.Figure at 0x10bcdafd0>"
      ]
     },
     "metadata": {},
     "output_type": "display_data"
    }
   ],
   "source": [
    "coefs = pd.DataFrame(fitted1.coef_, index=train.columns)\n",
    "print coefs\n",
    "coefs.plot(kind='bar')"
   ]
  },
  {
   "cell_type": "markdown",
   "metadata": {},
   "source": [
    "This basic analysis strongly suggests that `prestige`, or more specifically, `prestige=1` (i.e., graduating from a top-ranked undergraduate program) is the strongest predictor of admission.\n",
    "We can further verify the importance of `prestige` by comparing the performance of models that take it into account against models that do not."
   ]
  },
  {
   "cell_type": "code",
   "execution_count": 151,
   "metadata": {
    "collapsed": true
   },
   "outputs": [],
   "source": [
    "def measure_model(cols, title, label):\n",
    "    lm = linear_model.LogisticRegression()\n",
    "    lm.fit(cols, admit)\n",
    "    probs = lm.predict_proba(cols).T[1]\n",
    "    vals = metrics.roc_curve(admit, probs)\n",
    "    preds = np.around(probs)\n",
    "    print 'F1 score: ' + str(metrics.f1_score(admit, preds))\n",
    "    print 'ROC score: ' + str(metrics.roc_auc_score(admit, probs))\n",
    "    plot = plt.subplot(111)\n",
    "    plot.set(title=title, ylabel='', xlabel='', xlim=(0,1), ylim=(0,1))\n",
    "    plot.plot(vals[0], vals[1], label=label)"
   ]
  },
  {
   "cell_type": "code",
   "execution_count": 152,
   "metadata": {
    "collapsed": false
   },
   "outputs": [
    {
     "name": "stdout",
     "output_type": "stream",
     "text": [
      "F1 score: 0.321428571429\n",
      "ROC score: 0.68089966614\n"
     ]
    },
    {
     "data": {
      "image/png": "[encoded data removed]",
      "text/plain": [
       "<matplotlib.figure.Figure at 0x10bc89350>"
      ]
     },
     "metadata": {},
     "output_type": "display_data"
    }
   ],
   "source": [
    "measure_model(train, 'Area Under the Curve for model with all predictors', 'all predictors')"
   ]
  },
  {
   "cell_type": "code",
   "execution_count": 154,
   "metadata": {
    "collapsed": false,
    "scrolled": false
   },
   "outputs": [
    {
     "name": "stdout",
     "output_type": "stream",
     "text": [
      "F1 score: 0.0\n",
      "ROC score: 0.615914016283\n"
     ]
    },
    {
     "data": {
      "image/png": "[encoded data removed]",
      "text/plain": [
       "<matplotlib.figure.Figure at 0x10c9aa6d0>"
      ]
     },
     "metadata": {},
     "output_type": "display_data"
    }
   ],
   "source": [
    "merit = admissions[['gpa', 'gpa']]\n",
    "measure_model(merit, 'Area Under the Curve for model using only GRE and GPA', 'GRE and GPA')"
   ]
  },
  {
   "cell_type": "markdown",
   "metadata": {},
   "source": [
    "*NB: the shape of the GRE and GPA data precluded the calculation of an F1 score for this model.*"
   ]
  },
  {
   "cell_type": "code",
   "execution_count": 155,
   "metadata": {
    "collapsed": false
   },
   "outputs": [
    {
     "name": "stdout",
     "output_type": "stream",
     "text": [
      "F1 score: 0.352941176471\n",
      "ROC score: 0.644716804311\n"
     ]
    },
    {
     "data": {
      "image/png": "[encoded data removed]",
      "text/plain": [
       "<matplotlib.figure.Figure at 0x10c7bfa10>"
      ]
     },
     "metadata": {},
     "output_type": "display_data"
    }
   ],
   "source": [
    "prest_only = admissions[[c for c in admissions.columns if c.startswith('prestige_')]]\n",
    "measure_model(prest_only, 'Area Under the Curve for model using only prestige', 'prestige')"
   ]
  },
  {
   "cell_type": "code",
   "execution_count": 156,
   "metadata": {
    "collapsed": false,
    "scrolled": true
   },
   "outputs": [
    {
     "name": "stdout",
     "output_type": "stream",
     "text": [
      "F1 score: 0.352941176471\n",
      "ROC score: 0.579291864347\n"
     ]
    },
    {
     "data": {
      "image/png": "[encoded data removed]",
      "text/plain": [
       "<matplotlib.figure.Figure at 0x10c7ecf50>"
      ]
     },
     "metadata": {},
     "output_type": "display_data"
    }
   ],
   "source": [
    "measure_model(admissions[['prestige_1.0']], 'Area Under the Curve for model using only prestige=1', 'prestige')"
   ]
  },
  {
   "cell_type": "markdown",
   "metadata": {},
   "source": [
    "We can see that by ROC score, a model that takes into account _only_ whether a student graduated from a top-ranked program (e.g., not only disregarding GRE and GPA, but also treating students from 2nd- through 4th-ranked programs identically) is nearly 95% as accurate as a model that makes predictions based on GRE and GPA while ignoring `prestige`. We can additionally see that models that only account for `prestige` perform _better_ than the baseline (all predictors) model when measured by F-score."
   ]
  },
  {
   "cell_type": "markdown",
   "metadata": {},
   "source": [
    "### Further discussion and future analysis"
   ]
  },
  {
   "cell_type": "markdown",
   "metadata": {},
   "source": [
    "The above analysis clearly demonstrates that, *according to this data set*, prestige of undergraduate program&mdash;specifically, whether an applicant has graduated from a top-ranked program&mdash;is the strongest predictor of whether that applicant will be admitted. There are, however, several directions that could be taken from this point:\n",
    "\n",
    "* This data set is, according to its source, \"hypothetical.\" While we do not intend to look a gift horse in the mouth, it would be interesting to see whether the conclusions drawn from this dataset hold up on actual admissions data, or even a greater volume of data generated in the same way.\n",
    "\n",
    "* Similarly, these data are 'flattened': there is little we can do to subdivide them further. Similar data that also included information about date of application and program applied to, for example, would result in a richer and more applicable set of results."
   ]
  }
 ],
 "metadata": {
  "kernelspec": {
   "display_name": "Python 2",
   "language": "python",
   "name": "python2"
  },
  "language_info": {
   "codemirror_mode": {
    "name": "ipython",
    "version": 2
   },
   "file_extension": ".py",
   "mimetype": "text/x-python",
   "name": "python",
   "nbconvert_exporter": "python",
   "pygments_lexer": "ipython2",
   "version": "2.7.12"
  }
 },
 "nbformat": 4,
 "nbformat_minor": 0
}
